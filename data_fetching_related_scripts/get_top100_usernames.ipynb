{
 "cells": [
  {
   "cell_type": "markdown",
   "metadata": {
    "collapsed": true
   },
   "source": [
    "## Scraping different websites to get approximately top 100 people in each of the following categories:\n",
    "\n",
    "- Athelets\n",
    "- Authors\n",
    "- Entertainers\n",
    "- Musicians\n",
    "- Politicians\n",
    "- Scientists"
   ]
  },
  {
   "cell_type": "markdown",
   "metadata": {},
   "source": [
    "Atheletes: http://twittercounter.com/pages/100/sports-athlete  \n",
    "Entertainers: http://twittercounter.com/pages/100/entertainer  \n",
    "Musicians: http://twittercounter.com/pages/100/musician-band  \n",
    "\n",
    "Authors: http://mashable.com/2009/05/08/twitter-authors/#qP2pNIxiomqZ  \n",
    "US politicians: http://www.davemanuel.com/the-most-popular-us-politicians-by-twitter-followers-163/  \n",
    "US senators: http://www.socialseer.com/resources/us-senator-twitter-accounts/  \n",
    "\n",
    "Scientists (100): http://www.teachthought.com/uncategorized/100-scientists-on-twitter-by-category/    \n",
    "Scientists (050): http://www.sciencemag.org/news/2014/09/top-50-science-stars-twitter"
   ]
  },
  {
   "cell_type": "code",
   "execution_count": 1,
   "metadata": {
    "collapsed": true
   },
   "outputs": [],
   "source": [
    "import requests\n",
    "from bs4 import BeautifulSoup"
   ]
  },
  {
   "cell_type": "code",
   "execution_count": 43,
   "metadata": {
    "collapsed": true
   },
   "outputs": [],
   "source": [
    "def get_parsed_page(url):\n",
    "    html_page = requests.get(url).text\n",
    "    parsed_page = BeautifulSoup(html_page, \"html.parser\")\n",
    "    return parsed_page"
   ]
  },
  {
   "cell_type": "code",
   "execution_count": 39,
   "metadata": {
    "collapsed": true
   },
   "outputs": [],
   "source": [
    "url = \"http://twittercounter.com/pages/100/entertainer\"\n",
    "parsed_page = get_parsed_page(url)\n",
    "users = parsed_page.findAll('div', {'class':'name-bio'})"
   ]
  },
  {
   "cell_type": "code",
   "execution_count": 40,
   "metadata": {
    "collapsed": false
   },
   "outputs": [],
   "source": [
    "musicians = []\n",
    "for user in users:\n",
    "    musicians.append(user.findAll('a')[0]['href'][1:])"
   ]
  },
  {
   "cell_type": "code",
   "execution_count": 41,
   "metadata": {
    "collapsed": false
   },
   "outputs": [],
   "source": [
    "with open(\"musicians.txt\", 'w') as f:\n",
    "    for musician in musicians:\n",
    "        f.write(musician + \"\\n\")"
   ]
  },
  {
   "cell_type": "markdown",
   "metadata": {
    "collapsed": false
   },
   "source": [
    "### Authors"
   ]
  },
  {
   "cell_type": "code",
   "execution_count": 44,
   "metadata": {
    "collapsed": true
   },
   "outputs": [],
   "source": [
    "url = \"http://mashable.com/2009/05/08/twitter-authors/#afvDsBYPomqj\"\n",
    "parsed_page = get_parsed_page(url)"
   ]
  },
  {
   "cell_type": "code",
   "execution_count": 79,
   "metadata": {
    "collapsed": false
   },
   "outputs": [],
   "source": [
    "authors = []\n",
    "paragraphs = parsed_page.findAll('p')\n",
    "for paragraph in paragraphs:\n",
    "    links = paragraph.select('a')\n",
    "    if len(links) != 0:\n",
    "        possible_twitter = links[0]['href']\n",
    "        if \"twitter.com\" in possible_twitter:\n",
    "            authors.append(possible_twitter[19:])"
   ]
  },
  {
   "cell_type": "code",
   "execution_count": 81,
   "metadata": {
    "collapsed": false
   },
   "outputs": [],
   "source": [
    "#parsed_page.findAll('p')[5].select('a')[0]['href']\n",
    "with open(\"authors.txt\", \"w\") as f:\n",
    "    for author in authors:\n",
    "        f.write(author+\"\\n\")"
   ]
  },
  {
   "cell_type": "code",
   "execution_count": 80,
   "metadata": {
    "collapsed": false
   },
   "outputs": [
    {
     "data": {
      "text/plain": [
       "u'Annemazer'"
      ]
     },
     "execution_count": 80,
     "metadata": {},
     "output_type": "execute_result"
    }
   ],
   "source": [
    "authors[0]"
   ]
  },
  {
   "cell_type": "markdown",
   "metadata": {
    "collapsed": true
   },
   "source": [
    "### US Politicians"
   ]
  },
  {
   "cell_type": "code",
   "execution_count": 82,
   "metadata": {
    "collapsed": true
   },
   "outputs": [],
   "source": [
    "url = \"http://www.socialseer.com/resources/us-senator-twitter-accounts/\"\n",
    "parsed_page = get_parsed_page(url)"
   ]
  },
  {
   "cell_type": "code",
   "execution_count": 90,
   "metadata": {
    "collapsed": false
   },
   "outputs": [],
   "source": [
    "table = parsed_page.findAll('table')[0]"
   ]
  },
  {
   "cell_type": "code",
   "execution_count": 110,
   "metadata": {
    "collapsed": false
   },
   "outputs": [
    {
     "data": {
      "text/plain": [
       "u'lisamurkowski'"
      ]
     },
     "execution_count": 110,
     "metadata": {},
     "output_type": "execute_result"
    }
   ],
   "source": [
    "table.select('tr')[3].select('td')[2].select('a')[0]['href'][20:]"
   ]
  },
  {
   "cell_type": "code",
   "execution_count": 114,
   "metadata": {
    "collapsed": false
   },
   "outputs": [],
   "source": [
    "with open('senators.txt', \"wb\") as f:\n",
    "    for item in table.select('tr'):\n",
    "        if len(item.select('td')[2].select('a') ) > 0:\n",
    "            f.write( item.select('td')[2].select('a')[0]['href'][20:] + \"\\n\")"
   ]
  },
  {
   "cell_type": "code",
   "execution_count": 143,
   "metadata": {
    "collapsed": true
   },
   "outputs": [],
   "source": [
    "with open(\"senators.txt\", \"r\") as f:\n",
    "    senators = f.read().splitlines()"
   ]
  },
  {
   "cell_type": "code",
   "execution_count": 146,
   "metadata": {
    "collapsed": false
   },
   "outputs": [
    {
     "data": {
      "text/plain": [
       "77"
      ]
     },
     "execution_count": 146,
     "metadata": {},
     "output_type": "execute_result"
    }
   ],
   "source": [
    "len(senators)"
   ]
  },
  {
   "cell_type": "code",
   "execution_count": 145,
   "metadata": {
    "collapsed": true
   },
   "outputs": [],
   "source": [
    "for i in xrange(77):\n",
    "    senators[i] = senators[i].lower()"
   ]
  },
  {
   "cell_type": "code",
   "execution_count": 149,
   "metadata": {
    "collapsed": true
   },
   "outputs": [],
   "source": [
    "with open('politicians_jnk.txt') as f:\n",
    "    politicians = f.read()"
   ]
  },
  {
   "cell_type": "code",
   "execution_count": 150,
   "metadata": {
    "collapsed": false
   },
   "outputs": [],
   "source": [
    "polit = []\n",
    "for word in politicians.split():\n",
    "    if len(word) > 1 and word[1] == '@':\n",
    "        polit.append(word[2:-1].lower())"
   ]
  },
  {
   "cell_type": "code",
   "execution_count": 152,
   "metadata": {
    "collapsed": false
   },
   "outputs": [
    {
     "name": "stdout",
     "output_type": "stream",
     "text": [
      "barackobama\n",
      "speakerboehner\n",
      "joebiden\n",
      "reppaulryan\n",
      "nancypelosi\n",
      "repronpaul\n",
      "michelebachmann\n",
      "jimdemint\n",
      "gopleader\n",
      "allenwest\n",
      "darrellissa\n",
      "tomcoburn\n",
      "johnkerry\n",
      "chuckschumer\n",
      "repmikepence\n",
      "thadmccotter\n",
      "jaredpolis\n",
      "orrinhatch\n",
      "keithellison\n"
     ]
    }
   ],
   "source": [
    "for politician in polit:\n",
    "    if politician not in senators:\n",
    "        print politician\n",
    "        senators.append(politician)"
   ]
  },
  {
   "cell_type": "code",
   "execution_count": 154,
   "metadata": {
    "collapsed": false
   },
   "outputs": [
    {
     "data": {
      "text/plain": [
       "96"
      ]
     },
     "execution_count": 154,
     "metadata": {},
     "output_type": "execute_result"
    }
   ],
   "source": [
    "len(senators)"
   ]
  },
  {
   "cell_type": "code",
   "execution_count": 142,
   "metadata": {
    "collapsed": true
   },
   "outputs": [],
   "source": [
    "with open(\"politicians_and_senators.txt\", \"wb\") as f:\n",
    "    for senator in senators:\n",
    "        f.write(senator+'\\n')"
   ]
  },
  {
   "cell_type": "code",
   "execution_count": null,
   "metadata": {
    "collapsed": true
   },
   "outputs": [],
   "source": []
  }
 ],
 "metadata": {
  "kernelspec": {
   "display_name": "Python 2",
   "language": "python",
   "name": "python2"
  },
  "language_info": {
   "codemirror_mode": {
    "name": "ipython",
    "version": 2
   },
   "file_extension": ".py",
   "mimetype": "text/x-python",
   "name": "python",
   "nbconvert_exporter": "python",
   "pygments_lexer": "ipython2",
   "version": "2.7.10"
  }
 },
 "nbformat": 4,
 "nbformat_minor": 0
}
